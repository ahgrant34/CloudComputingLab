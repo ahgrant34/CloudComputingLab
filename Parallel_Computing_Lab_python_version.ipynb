{
 "cells": [
  {
   "cell_type": "markdown",
   "metadata": {},
   "source": [
    "## Import Packages"
   ]
  },
  {
   "cell_type": "code",
   "execution_count": 84,
   "metadata": {},
   "outputs": [],
   "source": [
    "import json \n",
    "import os\n",
    "import pandas as pd\n",
    "\n",
    "import re\n",
    "from collections import Counter\n",
    "\n",
    "from nltk.corpus import stopwords\n",
    "#nltk.download('stopwords')\n",
    "from nltk.tokenize import word_tokenize"
   ]
  },
  {
   "cell_type": "markdown",
   "metadata": {},
   "source": [
    "## Load Json Data"
   ]
  },
  {
   "cell_type": "code",
   "execution_count": 51,
   "metadata": {},
   "outputs": [],
   "source": [
    "def json_opener(num_products):\n",
    "    \n",
    "    list_of_products = []\n",
    "    \n",
    "    for x in range(num_products):\n",
    "        \n",
    "        jsonfile = open('data/product{}.json'.format(x+1),'r')\n",
    "        \n",
    "        jsondata = jsonfile.read()\n",
    "        \n",
    "        obj = json.loads(jsondata)\n",
    "        \n",
    "        list_of_products.append(obj)\n",
    "    \n",
    "    return list_of_products"
   ]
  },
  {
   "cell_type": "code",
   "execution_count": 52,
   "metadata": {},
   "outputs": [],
   "source": [
    "products = json_opener(4)"
   ]
  },
  {
   "cell_type": "code",
   "execution_count": 53,
   "metadata": {},
   "outputs": [
    {
     "data": {
      "text/plain": [
       "4"
      ]
     },
     "execution_count": 53,
     "metadata": {},
     "output_type": "execute_result"
    }
   ],
   "source": [
    "len(products)"
   ]
  },
  {
   "cell_type": "markdown",
   "metadata": {},
   "source": [
    "## Pull Product Description Data"
   ]
  },
  {
   "cell_type": "code",
   "execution_count": 65,
   "metadata": {},
   "outputs": [],
   "source": [
    "def product_description_pull(product_list):\n",
    "    \n",
    "    product_descriptions =[]\n",
    "\n",
    "    for product in product_list:\n",
    "        \n",
    "        description = product['description']\n",
    "        \n",
    "        product_descriptions.append(description[0])\n",
    "    \n",
    "    return product_descriptions\n",
    "        \n",
    "        \n",
    "        "
   ]
  },
  {
   "cell_type": "code",
   "execution_count": 66,
   "metadata": {},
   "outputs": [],
   "source": [
    "prod_descriptions = product_description_pull(products)"
   ]
  },
  {
   "cell_type": "code",
   "execution_count": 77,
   "metadata": {},
   "outputs": [
    {
     "data": {
      "text/plain": [
       "['( =^ ^=) 1.It is made of high quality materials,durable enought for your daily wearing<br>(=^ ^=) 2.Stylish and fashion design make you more attractive<br>(=^ ^=) 3.Perfect Match with your favorite shorts, leggings, black slacks, denim jeans, etc<br>(=^ ^=) 4.Great for Daily,Casual,I am sure you will like it! <br><br>(=^ ^=) If you would like to know more products of our store, please pay close attention t o <b>Ninasill</b> <br><br>Loose Blouse V-Neck Blouse Solid Color Blouse Sling Blouse Fashion Blouse Cool Blouse Vintage Blouse Popular Blouse Fun Blouse Sexy Blouse Lace Vest Blouse Wild <br>Blouse Sleev eless Blouse Lace Blouse Lace Stitching Blouse Sweaters T-Shirts Men Blouse Women Blouse Girls Blouse Boys Blouse Kid Blouse Adult Blouse Children Blouse Printing Vest Rose Blouse Velvet Shirt Couple Blo use Elegant Blouse Long <br>Sleeve Blouse Lace Vest Printed Blouse High Low Hem Blouse Top Short Sleeve Blouses Hollow Clothing V-Collar Vest Casual Shirts Out Shoulder Blouse Three Quarter Sleeve Shirts  Chiffon Blouse Floral Printed Button Shirts',\n",
       " 'Melamine Serve ware 4 Piece Tuscan Print Platter with Rustic Styled Bowl and Fork and Spoon-Red',\n",
       " 'NEW PUMA DRIFT CAT 4 SUEDE MENS TRAINERS / SHOES A must for all fans of Motorsport Eco OrthoLite insole: Breathable, antimicrobial and cushioning EVA midsole for extra cushioning and comfort Leather Suede upper The sole sports a design of racing tires',\n",
       " 'Go Power! 2000-Watt Pure Sine Wave Inverter takes 12 volt DC battery power and converts it to an exact replica of AC houshold power. It is guarenteed to run any load within their wattage rangeand has a 2 year warranty. This inverter has two GFCI outlets and can use the GP-DC-KIT4 to connect to the batteries with ease. As long as the load is not greater then 2000 watt this inverter will run it and the GP-SW2000-12 can surge to 4000 watt as well as contains all instructions required.']"
      ]
     },
     "execution_count": 77,
     "metadata": {},
     "output_type": "execute_result"
    }
   ],
   "source": [
    "prod_descriptions"
   ]
  },
  {
   "cell_type": "markdown",
   "metadata": {},
   "source": [
    "## Clean Descriptions/Remove Stop Words"
   ]
  },
  {
   "cell_type": "code",
   "execution_count": 90,
   "metadata": {},
   "outputs": [],
   "source": [
    "def doc_cleaner(document_list):\n",
    "    \n",
    "    clean_docs = []\n",
    "    \n",
    "    # text cleaning function\n",
    "    def text_cleaner(text):\n",
    "        text = text.replace(\"<br>\", \"\")\n",
    "        text = text.lower()\n",
    "        text = re.sub('\\W', ' ', text)\n",
    "        text = re.sub('\\s+', ' ', text)\n",
    "        return text\n",
    "\n",
    "\n",
    "    # Clean text string\n",
    "    for doc in document_list:\n",
    "        clean_doc = text_cleaner(doc)\n",
    "        clean_docs.append(clean_doc)\n",
    "    \n",
    "    return clean_docs"
   ]
  },
  {
   "cell_type": "code",
   "execution_count": 91,
   "metadata": {},
   "outputs": [],
   "source": [
    "clean_prod_desc = doc_cleaner(prod_descriptions)"
   ]
  },
  {
   "cell_type": "code",
   "execution_count": 92,
   "metadata": {},
   "outputs": [
    {
     "data": {
      "text/plain": [
       "[' 1 it is made of high quality materials durable enought for your daily wearing 2 stylish and fashion design make you more attractive 3 perfect match with your favorite shorts leggings black slacks denim jeans etc 4 great for daily casual i am sure you will like it if you would like to know more products of our store please pay close attention t o b ninasill b loose blouse v neck blouse solid color blouse sling blouse fashion blouse cool blouse vintage blouse popular blouse fun blouse sexy blouse lace vest blouse wild blouse sleev eless blouse lace blouse lace stitching blouse sweaters t shirts men blouse women blouse girls blouse boys blouse kid blouse adult blouse children blouse printing vest rose blouse velvet shirt couple blo use elegant blouse long sleeve blouse lace vest printed blouse high low hem blouse top short sleeve blouses hollow clothing v collar vest casual shirts out shoulder blouse three quarter sleeve shirts chiffon blouse floral printed button shirts',\n",
       " 'melamine serve ware 4 piece tuscan print platter with rustic styled bowl and fork and spoon red',\n",
       " 'new puma drift cat 4 suede mens trainers shoes a must for all fans of motorsport eco ortholite insole breathable antimicrobial and cushioning eva midsole for extra cushioning and comfort leather suede upper the sole sports a design of racing tires',\n",
       " 'go power 2000 watt pure sine wave inverter takes 12 volt dc battery power and converts it to an exact replica of ac houshold power it is guarenteed to run any load within their wattage rangeand has a 2 year warranty this inverter has two gfci outlets and can use the gp dc kit4 to connect to the batteries with ease as long as the load is not greater then 2000 watt this inverter will run it and the gp sw2000 12 can surge to 4000 watt as well as contains all instructions required ']"
      ]
     },
     "execution_count": 92,
     "metadata": {},
     "output_type": "execute_result"
    }
   ],
   "source": [
    "clean_prod_desc"
   ]
  },
  {
   "cell_type": "markdown",
   "metadata": {},
   "source": [
    "## Convert to List of Tokens "
   ]
  },
  {
   "cell_type": "code",
   "execution_count": 93,
   "metadata": {},
   "outputs": [],
   "source": [
    "def tokenizer(product_descriptions):\n",
    "    \n",
    "    prod_desc_toks = []\n",
    "    \n",
    "    for product in product_descriptions:\n",
    "        \n",
    "        text_tokens = word_tokenize(product)\n",
    "        \n",
    "        tokens_without_sw = [word for word in text_tokens if not word in stopwords.words()]\n",
    "        \n",
    "        prod_desc_toks.append(tokens_without_sw)\n",
    "        \n",
    "    return prod_desc_toks"
   ]
  },
  {
   "cell_type": "code",
   "execution_count": 94,
   "metadata": {},
   "outputs": [],
   "source": [
    "prod_desc_tokens = tokenizer(clean_prod_desc)"
   ]
  },
  {
   "cell_type": "code",
   "execution_count": 95,
   "metadata": {},
   "outputs": [
    {
     "data": {
      "text/plain": [
       "[['1',\n",
       "  'made',\n",
       "  'high',\n",
       "  'quality',\n",
       "  'materials',\n",
       "  'durable',\n",
       "  'enought',\n",
       "  'daily',\n",
       "  'wearing',\n",
       "  '2',\n",
       "  'stylish',\n",
       "  'fashion',\n",
       "  'design',\n",
       "  'make',\n",
       "  'attractive',\n",
       "  '3',\n",
       "  'perfect',\n",
       "  'match',\n",
       "  'favorite',\n",
       "  'shorts',\n",
       "  'leggings',\n",
       "  'black',\n",
       "  'slacks',\n",
       "  'denim',\n",
       "  'jeans',\n",
       "  'etc',\n",
       "  '4',\n",
       "  'great',\n",
       "  'daily',\n",
       "  'casual',\n",
       "  'sure',\n",
       "  'like',\n",
       "  'would',\n",
       "  'like',\n",
       "  'know',\n",
       "  'products',\n",
       "  'store',\n",
       "  'please',\n",
       "  'pay',\n",
       "  'close',\n",
       "  'attention',\n",
       "  'b',\n",
       "  'ninasill',\n",
       "  'b',\n",
       "  'loose',\n",
       "  'blouse',\n",
       "  'neck',\n",
       "  'blouse',\n",
       "  'solid',\n",
       "  'color',\n",
       "  'blouse',\n",
       "  'sling',\n",
       "  'blouse',\n",
       "  'fashion',\n",
       "  'blouse',\n",
       "  'cool',\n",
       "  'blouse',\n",
       "  'vintage',\n",
       "  'blouse',\n",
       "  'popular',\n",
       "  'blouse',\n",
       "  'fun',\n",
       "  'blouse',\n",
       "  'sexy',\n",
       "  'blouse',\n",
       "  'lace',\n",
       "  'vest',\n",
       "  'blouse',\n",
       "  'wild',\n",
       "  'blouse',\n",
       "  'sleev',\n",
       "  'eless',\n",
       "  'blouse',\n",
       "  'lace',\n",
       "  'blouse',\n",
       "  'lace',\n",
       "  'stitching',\n",
       "  'blouse',\n",
       "  'sweaters',\n",
       "  'shirts',\n",
       "  'blouse',\n",
       "  'women',\n",
       "  'blouse',\n",
       "  'girls',\n",
       "  'blouse',\n",
       "  'boys',\n",
       "  'blouse',\n",
       "  'kid',\n",
       "  'blouse',\n",
       "  'adult',\n",
       "  'blouse',\n",
       "  'children',\n",
       "  'blouse',\n",
       "  'printing',\n",
       "  'vest',\n",
       "  'rose',\n",
       "  'blouse',\n",
       "  'velvet',\n",
       "  'shirt',\n",
       "  'couple',\n",
       "  'blo',\n",
       "  'use',\n",
       "  'elegant',\n",
       "  'blouse',\n",
       "  'long',\n",
       "  'sleeve',\n",
       "  'blouse',\n",
       "  'lace',\n",
       "  'vest',\n",
       "  'printed',\n",
       "  'blouse',\n",
       "  'high',\n",
       "  'low',\n",
       "  'blouse',\n",
       "  'top',\n",
       "  'short',\n",
       "  'sleeve',\n",
       "  'blouses',\n",
       "  'hollow',\n",
       "  'clothing',\n",
       "  'collar',\n",
       "  'vest',\n",
       "  'casual',\n",
       "  'shirts',\n",
       "  'shoulder',\n",
       "  'blouse',\n",
       "  'three',\n",
       "  'quarter',\n",
       "  'sleeve',\n",
       "  'shirts',\n",
       "  'chiffon',\n",
       "  'blouse',\n",
       "  'floral',\n",
       "  'printed',\n",
       "  'button',\n",
       "  'shirts'],\n",
       " ['melamine',\n",
       "  'serve',\n",
       "  'ware',\n",
       "  '4',\n",
       "  'piece',\n",
       "  'tuscan',\n",
       "  'print',\n",
       "  'platter',\n",
       "  'rustic',\n",
       "  'styled',\n",
       "  'bowl',\n",
       "  'fork',\n",
       "  'spoon',\n",
       "  'red'],\n",
       " ['new',\n",
       "  'puma',\n",
       "  'drift',\n",
       "  '4',\n",
       "  'suede',\n",
       "  'mens',\n",
       "  'trainers',\n",
       "  'shoes',\n",
       "  'must',\n",
       "  'fans',\n",
       "  'motorsport',\n",
       "  'eco',\n",
       "  'ortholite',\n",
       "  'insole',\n",
       "  'breathable',\n",
       "  'antimicrobial',\n",
       "  'cushioning',\n",
       "  'eva',\n",
       "  'midsole',\n",
       "  'extra',\n",
       "  'cushioning',\n",
       "  'comfort',\n",
       "  'leather',\n",
       "  'suede',\n",
       "  'upper',\n",
       "  'sole',\n",
       "  'sports',\n",
       "  'design',\n",
       "  'racing',\n",
       "  'tires'],\n",
       " ['go',\n",
       "  'power',\n",
       "  '2000',\n",
       "  'watt',\n",
       "  'pure',\n",
       "  'wave',\n",
       "  'inverter',\n",
       "  'takes',\n",
       "  '12',\n",
       "  'dc',\n",
       "  'battery',\n",
       "  'power',\n",
       "  'converts',\n",
       "  'exact',\n",
       "  'replica',\n",
       "  'ac',\n",
       "  'houshold',\n",
       "  'power',\n",
       "  'guarenteed',\n",
       "  'run',\n",
       "  'load',\n",
       "  'within',\n",
       "  'wattage',\n",
       "  'rangeand',\n",
       "  '2',\n",
       "  'year',\n",
       "  'warranty',\n",
       "  'inverter',\n",
       "  'two',\n",
       "  'gfci',\n",
       "  'outlets',\n",
       "  'use',\n",
       "  'gp',\n",
       "  'dc',\n",
       "  'kit4',\n",
       "  'connect',\n",
       "  'batteries',\n",
       "  'ease',\n",
       "  'long',\n",
       "  'load',\n",
       "  'greater',\n",
       "  '2000',\n",
       "  'watt',\n",
       "  'inverter',\n",
       "  'run',\n",
       "  'gp',\n",
       "  'sw2000',\n",
       "  '12',\n",
       "  'surge',\n",
       "  '4000',\n",
       "  'watt',\n",
       "  'well',\n",
       "  'contains',\n",
       "  'instructions',\n",
       "  'required']]"
      ]
     },
     "execution_count": 95,
     "metadata": {},
     "output_type": "execute_result"
    }
   ],
   "source": [
    "prod_desc_tokens"
   ]
  },
  {
   "cell_type": "markdown",
   "metadata": {},
   "source": [
    "## Part 1 - \"repeated words in a single product description will only count once\""
   ]
  },
  {
   "cell_type": "code",
   "execution_count": 118,
   "metadata": {},
   "outputs": [],
   "source": [
    "def word_counter_no_rep(product_description_tokens_list):\n",
    "    \n",
    "    all_distict_words = []\n",
    "    \n",
    "    for product in product_description_tokens_list:\n",
    "        \n",
    "        distinct_words = set(product)\n",
    "        \n",
    "        distinct_words = list(distinct_words)\n",
    "        \n",
    "        all_distict_words = all_distict_words + distinct_words\n",
    "    \n",
    "    word_counts = Counter(all_distict_words).most_common()\n",
    "    \n",
    "    return word_counts"
   ]
  },
  {
   "cell_type": "code",
   "execution_count": 120,
   "metadata": {
    "scrolled": true
   },
   "outputs": [
    {
     "data": {
      "text/plain": [
       "[('4', 3),\n",
       " ('2', 2),\n",
       " ('long', 2),\n",
       " ('use', 2),\n",
       " ('design', 2),\n",
       " ('high', 1),\n",
       " ('etc', 1),\n",
       " ('black', 1),\n",
       " ('attention', 1),\n",
       " ('know', 1),\n",
       " ('loose', 1),\n",
       " ('couple', 1),\n",
       " ('3', 1),\n",
       " ('blouse', 1),\n",
       " ('sweaters', 1),\n",
       " ('quality', 1),\n",
       " ('perfect', 1),\n",
       " ('cool', 1),\n",
       " ('vest', 1),\n",
       " ('elegant', 1),\n",
       " ('fashion', 1),\n",
       " ('printing', 1),\n",
       " ('kid', 1),\n",
       " ('great', 1),\n",
       " ('stylish', 1),\n",
       " ('shorts', 1),\n",
       " ('products', 1),\n",
       " ('stitching', 1),\n",
       " ('solid', 1),\n",
       " ('quarter', 1),\n",
       " ('clothing', 1),\n",
       " ('would', 1),\n",
       " ('ninasill', 1),\n",
       " ('boys', 1),\n",
       " ('enought', 1),\n",
       " ('store', 1),\n",
       " ('1', 1),\n",
       " ('slacks', 1),\n",
       " ('hollow', 1),\n",
       " ('sling', 1),\n",
       " ('chiffon', 1),\n",
       " ('jeans', 1),\n",
       " ('popular', 1),\n",
       " ('durable', 1),\n",
       " ('leggings', 1),\n",
       " ('top', 1),\n",
       " ('blouses', 1),\n",
       " ('fun', 1),\n",
       " ('wearing', 1),\n",
       " ('sure', 1),\n",
       " ('close', 1),\n",
       " ('wild', 1),\n",
       " ('make', 1),\n",
       " ('match', 1),\n",
       " ('vintage', 1),\n",
       " ('printed', 1),\n",
       " ('collar', 1),\n",
       " ('blo', 1),\n",
       " ('button', 1),\n",
       " ('materials', 1),\n",
       " ('lace', 1),\n",
       " ('floral', 1),\n",
       " ('attractive', 1),\n",
       " ('favorite', 1),\n",
       " ('girls', 1),\n",
       " ('velvet', 1),\n",
       " ('daily', 1),\n",
       " ('please', 1),\n",
       " ('b', 1),\n",
       " ('pay', 1),\n",
       " ('color', 1),\n",
       " ('sexy', 1),\n",
       " ('shoulder', 1),\n",
       " ('women', 1),\n",
       " ('short', 1),\n",
       " ('children', 1),\n",
       " ('casual', 1),\n",
       " ('neck', 1),\n",
       " ('shirts', 1),\n",
       " ('sleev', 1),\n",
       " ('sleeve', 1),\n",
       " ('low', 1),\n",
       " ('adult', 1),\n",
       " ('denim', 1),\n",
       " ('rose', 1),\n",
       " ('three', 1),\n",
       " ('shirt', 1),\n",
       " ('eless', 1),\n",
       " ('like', 1),\n",
       " ('made', 1),\n",
       " ('ware', 1),\n",
       " ('print', 1),\n",
       " ('serve', 1),\n",
       " ('tuscan', 1),\n",
       " ('spoon', 1),\n",
       " ('rustic', 1),\n",
       " ('platter', 1),\n",
       " ('fork', 1),\n",
       " ('red', 1),\n",
       " ('piece', 1)]"
      ]
     },
     "execution_count": 120,
     "metadata": {},
     "output_type": "execute_result"
    }
   ],
   "source": [
    "word_counts_nr = word_counter_no_rep(prod_desc_tokens)\n",
    "\n",
    "word_counts_nr[:100]"
   ]
  },
  {
   "cell_type": "markdown",
   "metadata": {},
   "source": [
    "## Part 2 - repeated words count every time"
   ]
  },
  {
   "cell_type": "code",
   "execution_count": 115,
   "metadata": {},
   "outputs": [],
   "source": [
    "def word_counter_with_rep(product_description_tokens_list):\n",
    "    \n",
    "    all_words = []\n",
    "    \n",
    "    for product in product_description_tokens_list:\n",
    "        \n",
    "        all_words = all_words + product\n",
    "        \n",
    "    \n",
    "    word_counts = Counter(all_words).most_common()\n",
    "    \n",
    "    return word_counts"
   ]
  },
  {
   "cell_type": "code",
   "execution_count": 116,
   "metadata": {},
   "outputs": [],
   "source": [
    "word_counts_withrep = word_counter_with_rep(prod_desc_tokens)"
   ]
  },
  {
   "cell_type": "code",
   "execution_count": 121,
   "metadata": {
    "scrolled": true
   },
   "outputs": [
    {
     "data": {
      "text/plain": [
       "[('blouse', 29),\n",
       " ('lace', 4),\n",
       " ('vest', 4),\n",
       " ('shirts', 4),\n",
       " ('4', 3),\n",
       " ('sleeve', 3),\n",
       " ('power', 3),\n",
       " ('watt', 3),\n",
       " ('inverter', 3),\n",
       " ('high', 2),\n",
       " ('daily', 2),\n",
       " ('2', 2),\n",
       " ('fashion', 2),\n",
       " ('design', 2),\n",
       " ('casual', 2),\n",
       " ('like', 2),\n",
       " ('b', 2),\n",
       " ('use', 2),\n",
       " ('long', 2),\n",
       " ('printed', 2),\n",
       " ('suede', 2),\n",
       " ('cushioning', 2),\n",
       " ('2000', 2),\n",
       " ('12', 2),\n",
       " ('dc', 2),\n",
       " ('run', 2),\n",
       " ('load', 2),\n",
       " ('gp', 2),\n",
       " ('1', 1),\n",
       " ('made', 1),\n",
       " ('quality', 1),\n",
       " ('materials', 1),\n",
       " ('durable', 1),\n",
       " ('enought', 1),\n",
       " ('wearing', 1),\n",
       " ('stylish', 1),\n",
       " ('make', 1),\n",
       " ('attractive', 1),\n",
       " ('3', 1),\n",
       " ('perfect', 1),\n",
       " ('match', 1),\n",
       " ('favorite', 1),\n",
       " ('shorts', 1),\n",
       " ('leggings', 1),\n",
       " ('black', 1),\n",
       " ('slacks', 1),\n",
       " ('denim', 1),\n",
       " ('jeans', 1),\n",
       " ('etc', 1),\n",
       " ('great', 1),\n",
       " ('sure', 1),\n",
       " ('would', 1),\n",
       " ('know', 1),\n",
       " ('products', 1),\n",
       " ('store', 1),\n",
       " ('please', 1),\n",
       " ('pay', 1),\n",
       " ('close', 1),\n",
       " ('attention', 1),\n",
       " ('ninasill', 1),\n",
       " ('loose', 1),\n",
       " ('neck', 1),\n",
       " ('solid', 1),\n",
       " ('color', 1),\n",
       " ('sling', 1),\n",
       " ('cool', 1),\n",
       " ('vintage', 1),\n",
       " ('popular', 1),\n",
       " ('fun', 1),\n",
       " ('sexy', 1),\n",
       " ('wild', 1),\n",
       " ('sleev', 1),\n",
       " ('eless', 1),\n",
       " ('stitching', 1),\n",
       " ('sweaters', 1),\n",
       " ('women', 1),\n",
       " ('girls', 1),\n",
       " ('boys', 1),\n",
       " ('kid', 1),\n",
       " ('adult', 1),\n",
       " ('children', 1),\n",
       " ('printing', 1),\n",
       " ('rose', 1),\n",
       " ('velvet', 1),\n",
       " ('shirt', 1),\n",
       " ('couple', 1),\n",
       " ('blo', 1),\n",
       " ('elegant', 1),\n",
       " ('low', 1),\n",
       " ('top', 1),\n",
       " ('short', 1),\n",
       " ('blouses', 1),\n",
       " ('hollow', 1),\n",
       " ('clothing', 1),\n",
       " ('collar', 1),\n",
       " ('shoulder', 1),\n",
       " ('three', 1),\n",
       " ('quarter', 1),\n",
       " ('chiffon', 1),\n",
       " ('floral', 1)]"
      ]
     },
     "execution_count": 121,
     "metadata": {},
     "output_type": "execute_result"
    }
   ],
   "source": [
    "word_counts_withrep[:100]"
   ]
  },
  {
   "cell_type": "code",
   "execution_count": null,
   "metadata": {},
   "outputs": [],
   "source": []
  },
  {
   "cell_type": "code",
   "execution_count": null,
   "metadata": {},
   "outputs": [],
   "source": []
  },
  {
   "cell_type": "code",
   "execution_count": null,
   "metadata": {},
   "outputs": [],
   "source": []
  }
 ],
 "metadata": {
  "kernelspec": {
   "display_name": "Python 3",
   "language": "python",
   "name": "python3"
  },
  "language_info": {
   "codemirror_mode": {
    "name": "ipython",
    "version": 3
   },
   "file_extension": ".py",
   "mimetype": "text/x-python",
   "name": "python",
   "nbconvert_exporter": "python",
   "pygments_lexer": "ipython3",
   "version": "3.7.4"
  }
 },
 "nbformat": 4,
 "nbformat_minor": 2
}
